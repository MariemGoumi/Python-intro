{
 "cells": [
  {
   "cell_type": "markdown",
   "id": "6d129a5e",
   "metadata": {},
   "source": [
    "1. Read your Titanic dataset as usual: Create a training set and a testing set then apply decision tree. "
   ]
  },
  {
   "cell_type": "markdown",
   "id": "0aed790e",
   "metadata": {},
   "source": [
    "loading dataset"
   ]
  },
  {
   "cell_type": "code",
   "execution_count": 1,
   "id": "fde4d5bc",
   "metadata": {},
   "outputs": [
    {
     "name": "stdout",
     "output_type": "stream",
     "text": [
      "   PassengerId Survived  Pclass                                         Name     Sex   Age  SibSp  Parch      Ticket     Fare  Cabin Embarked\n",
      "0          343       No       2                   Collander, Mr. Erik Gustaf    male  28.0      0      0      248740  13.0000    NaN        S\n",
      "1           76       No       3                      Moen, Mr. Sigurd Hansen    male  25.0      0      0      348123   7.6500  F G73        S\n",
      "2          641       No       3                       Jensen, Mr. Hans Peder    male  20.0      0      0      350050   7.8542    NaN        S\n",
      "3          568       No       3  Palsson, Mrs. Nils (Alma Cornelia Berglund)  female  29.0      0      4      349909  21.0750    NaN        S\n",
      "4          672       No       1                       Davidson, Mr. Thornton    male  31.0      1      0  F.C. 12750  52.0000    B71        S \n",
      " \n",
      "\n",
      "<class 'pandas.core.frame.DataFrame'>\n",
      "RangeIndex: 891 entries, 0 to 890\n",
      "Data columns (total 12 columns):\n",
      " #   Column       Non-Null Count  Dtype  \n",
      "---  ------       --------------  -----  \n",
      " 0   PassengerId  891 non-null    int64  \n",
      " 1   Survived     891 non-null    object \n",
      " 2   Pclass       891 non-null    int64  \n",
      " 3   Name         891 non-null    object \n",
      " 4   Sex          891 non-null    object \n",
      " 5   Age          714 non-null    float64\n",
      " 6   SibSp        891 non-null    int64  \n",
      " 7   Parch        891 non-null    int64  \n",
      " 8   Ticket       891 non-null    object \n",
      " 9   Fare         891 non-null    float64\n",
      " 10  Cabin        204 non-null    object \n",
      " 11  Embarked     889 non-null    object \n",
      "dtypes: float64(2), int64(4), object(6)\n",
      "memory usage: 83.7+ KB\n"
     ]
    }
   ],
   "source": [
    "import pandas as pd\n",
    "\n",
    "df = pd.read_csv(r'C:\\Users\\Meriem\\Desktop\\AI\\titanic-passengers.csv', sep=\";\")\n",
    "\n",
    "print(df.head().to_string(),'\\n \\n') \n",
    "df.info()"
   ]
  },
  {
   "cell_type": "markdown",
   "id": "a30963e8",
   "metadata": {},
   "source": [
    "preprocessing dataset "
   ]
  },
  {
   "cell_type": "code",
   "execution_count": 2,
   "id": "2371d896",
   "metadata": {},
   "outputs": [],
   "source": [
    "def preprocess_data(new_data):\n",
    "    new_data['Age'].fillna(new_data['Age'].mean(),inplace=True)\n",
    "    new_data.replace({'Sex':{'male': 1,'female':0}},inplace=True)\n",
    "    new_data['Cabin']=new_data.Cabin.fillna('G6')\n",
    "    new_data.replace({'Survived':{'Yes': 1,'No':0}},inplace=True)\n",
    "    return new_data\n",
    "data=preprocess_data(df)"
   ]
  },
  {
   "cell_type": "markdown",
   "id": "1cb79e77",
   "metadata": {},
   "source": [
    "splitting dataset into training and testing set and applying tree algorithm"
   ]
  },
  {
   "cell_type": "code",
   "execution_count": 40,
   "id": "e3fd1396",
   "metadata": {},
   "outputs": [],
   "source": [
    "from sklearn.model_selection import train_test_split\n",
    "from sklearn import tree   \n",
    "from sklearn.tree import DecisionTreeClassifier\n",
    "from sklearn.metrics import accuracy_score\n",
    "import graphviz \n",
    "from sklearn.tree import export_graphviz\n",
    "import matplotlib.pyplot as plt\n",
    "from sklearn.tree import plot_tree\n",
    "from sklearn import datasets\n",
    "from sklearn.ensemble import RandomForestClassifier \n",
    "from sklearn import metrics  \n",
    "from sklearn.linear_model import LogisticRegression"
   ]
  },
  {
   "cell_type": "code",
   "execution_count": 5,
   "id": "78f83809",
   "metadata": {},
   "outputs": [
    {
     "name": "stdout",
     "output_type": "stream",
     "text": [
      "score:0.7877094972067039\n"
     ]
    }
   ],
   "source": [
    "\n",
    "x=data.drop([\"Survived\", \"Name\", \"Cabin\", \"Ticket\", \"Embarked\"], axis=1)\n",
    "y= data[\"Survived\"]\n",
    "\n",
    "\n",
    "x_train, x_test, y_train, y_test = train_test_split(x,y, test_size=0.20,random_state=10)\n",
    "\n",
    "clf = tree.DecisionTreeClassifier()  \n",
    "clf.fit(x_train, y_train)   \n",
    "y_pred=clf.predict(x_test)   \n",
    "print(\"score:{}\".format(accuracy_score(y_test, y_pred)))"
   ]
  },
  {
   "cell_type": "markdown",
   "id": "b915b799",
   "metadata": {},
   "source": [
    "2. Plot your decision tree and try to read the tree branches and conclude a prediction manually."
   ]
  },
  {
   "cell_type": "code",
   "execution_count": 17,
   "id": "28168c65",
   "metadata": {},
   "outputs": [
    {
     "name": "stdout",
     "output_type": "stream",
     "text": [
      "|--- feature_2 <= 0.50\n",
      "|   |--- feature_1 <= 2.50\n",
      "|   |   |--- feature_3 <= 2.50\n",
      "|   |   |   |--- class: 0\n",
      "|   |   |--- feature_3 >  2.50\n",
      "|   |   |   |--- feature_6 <= 26.12\n",
      "|   |   |   |   |--- feature_0 <= 48.00\n",
      "|   |   |   |   |   |--- class: 0\n",
      "|   |   |   |   |--- feature_0 >  48.00\n",
      "|   |   |   |   |   |--- feature_3 <= 55.50\n",
      "|   |   |   |   |   |   |--- feature_4 <= 0.50\n",
      "|   |   |   |   |   |   |   |--- feature_0 <= 206.00\n",
      "|   |   |   |   |   |   |   |   |--- feature_0 <= 195.50\n",
      "|   |   |   |   |   |   |   |   |   |--- class: 1\n",
      "|   |   |   |   |   |   |   |   |--- feature_0 >  195.50\n",
      "|   |   |   |   |   |   |   |   |   |--- class: 0\n",
      "|   |   |   |   |   |   |   |--- feature_0 >  206.00\n",
      "|   |   |   |   |   |   |   |   |--- class: 1\n",
      "|   |   |   |   |   |   |--- feature_4 >  0.50\n",
      "|   |   |   |   |   |   |   |--- feature_5 <= 0.50\n",
      "|   |   |   |   |   |   |   |   |--- feature_3 <= 43.00\n",
      "|   |   |   |   |   |   |   |   |   |--- class: 1\n",
      "|   |   |   |   |   |   |   |   |--- feature_3 >  43.00\n",
      "|   |   |   |   |   |   |   |   |   |--- class: 0\n",
      "|   |   |   |   |   |   |   |--- feature_5 >  0.50\n",
      "|   |   |   |   |   |   |   |   |--- feature_5 <= 2.00\n",
      "|   |   |   |   |   |   |   |   |   |--- class: 0\n",
      "|   |   |   |   |   |   |   |   |--- feature_5 >  2.00\n",
      "|   |   |   |   |   |   |   |   |   |--- class: 1\n",
      "|   |   |   |   |   |--- feature_3 >  55.50\n",
      "|   |   |   |   |   |   |--- class: 0\n",
      "|   |   |   |--- feature_6 >  26.12\n",
      "|   |   |   |   |--- feature_6 <= 149.04\n",
      "|   |   |   |   |   |--- class: 1\n",
      "|   |   |   |   |--- feature_6 >  149.04\n",
      "|   |   |   |   |   |--- feature_6 <= 152.51\n",
      "|   |   |   |   |   |   |--- feature_0 <= 604.00\n",
      "|   |   |   |   |   |   |   |--- class: 0\n",
      "|   |   |   |   |   |   |--- feature_0 >  604.00\n",
      "|   |   |   |   |   |   |   |--- class: 1\n",
      "|   |   |   |   |   |--- feature_6 >  152.51\n",
      "|   |   |   |   |   |   |--- class: 1\n",
      "|   |--- feature_1 >  2.50\n",
      "|   |   |--- feature_6 <= 23.35\n",
      "|   |   |   |--- feature_6 <= 8.04\n",
      "|   |   |   |   |--- feature_0 <= 387.00\n",
      "|   |   |   |   |   |--- feature_3 <= 14.50\n",
      "|   |   |   |   |   |   |--- class: 0\n",
      "|   |   |   |   |   |--- feature_3 >  14.50\n",
      "|   |   |   |   |   |   |--- feature_3 <= 37.35\n",
      "|   |   |   |   |   |   |   |--- feature_0 <= 241.00\n",
      "|   |   |   |   |   |   |   |   |--- class: 1\n",
      "|   |   |   |   |   |   |   |--- feature_0 >  241.00\n",
      "|   |   |   |   |   |   |   |   |--- feature_0 <= 270.00\n",
      "|   |   |   |   |   |   |   |   |   |--- class: 0\n",
      "|   |   |   |   |   |   |   |   |--- feature_0 >  270.00\n",
      "|   |   |   |   |   |   |   |   |   |--- class: 1\n",
      "|   |   |   |   |   |   |--- feature_3 >  37.35\n",
      "|   |   |   |   |   |   |   |--- class: 0\n",
      "|   |   |   |   |--- feature_0 >  387.00\n",
      "|   |   |   |   |   |--- feature_0 <= 529.00\n",
      "|   |   |   |   |   |   |--- class: 0\n",
      "|   |   |   |   |   |--- feature_0 >  529.00\n",
      "|   |   |   |   |   |   |--- feature_0 <= 797.50\n",
      "|   |   |   |   |   |   |   |--- feature_5 <= 1.00\n",
      "|   |   |   |   |   |   |   |   |--- feature_6 <= 6.99\n",
      "|   |   |   |   |   |   |   |   |   |--- class: 0\n",
      "|   |   |   |   |   |   |   |   |--- feature_6 >  6.99\n",
      "|   |   |   |   |   |   |   |   |   |--- feature_4 <= 0.50\n",
      "|   |   |   |   |   |   |   |   |   |   |--- feature_3 <= 30.10\n",
      "|   |   |   |   |   |   |   |   |   |   |   |--- class: 1\n",
      "|   |   |   |   |   |   |   |   |   |   |--- feature_3 >  30.10\n",
      "|   |   |   |   |   |   |   |   |   |   |   |--- class: 0\n",
      "|   |   |   |   |   |   |   |   |   |--- feature_4 >  0.50\n",
      "|   |   |   |   |   |   |   |   |   |   |--- class: 0\n",
      "|   |   |   |   |   |   |   |--- feature_5 >  1.00\n",
      "|   |   |   |   |   |   |   |   |--- class: 0\n",
      "|   |   |   |   |   |   |--- feature_0 >  797.50\n",
      "|   |   |   |   |   |   |   |--- class: 0\n",
      "|   |   |   |--- feature_6 >  8.04\n",
      "|   |   |   |   |--- feature_3 <= 6.50\n",
      "|   |   |   |   |   |--- feature_6 <= 10.80\n",
      "|   |   |   |   |   |   |--- class: 0\n",
      "|   |   |   |   |   |--- feature_6 >  10.80\n",
      "|   |   |   |   |   |   |--- class: 1\n",
      "|   |   |   |   |--- feature_3 >  6.50\n",
      "|   |   |   |   |   |--- feature_0 <= 750.50\n",
      "|   |   |   |   |   |   |--- feature_6 <= 15.37\n",
      "|   |   |   |   |   |   |   |--- feature_0 <= 96.00\n",
      "|   |   |   |   |   |   |   |   |--- class: 1\n",
      "|   |   |   |   |   |   |   |--- feature_0 >  96.00\n",
      "|   |   |   |   |   |   |   |   |--- feature_3 <= 55.00\n",
      "|   |   |   |   |   |   |   |   |   |--- feature_0 <= 621.50\n",
      "|   |   |   |   |   |   |   |   |   |   |--- class: 0\n",
      "|   |   |   |   |   |   |   |   |   |--- feature_0 >  621.50\n",
      "|   |   |   |   |   |   |   |   |   |   |--- feature_0 <= 679.50\n",
      "|   |   |   |   |   |   |   |   |   |   |   |--- class: 1\n",
      "|   |   |   |   |   |   |   |   |   |   |--- feature_0 >  679.50\n",
      "|   |   |   |   |   |   |   |   |   |   |   |--- class: 0\n",
      "|   |   |   |   |   |   |   |   |--- feature_3 >  55.00\n",
      "|   |   |   |   |   |   |   |   |   |--- class: 1\n",
      "|   |   |   |   |   |   |--- feature_6 >  15.37\n",
      "|   |   |   |   |   |   |   |--- feature_0 <= 68.00\n",
      "|   |   |   |   |   |   |   |   |--- class: 0\n",
      "|   |   |   |   |   |   |   |--- feature_0 >  68.00\n",
      "|   |   |   |   |   |   |   |   |--- feature_0 <= 481.50\n",
      "|   |   |   |   |   |   |   |   |   |--- feature_3 <= 38.00\n",
      "|   |   |   |   |   |   |   |   |   |   |--- class: 1\n",
      "|   |   |   |   |   |   |   |   |   |--- feature_3 >  38.00\n",
      "|   |   |   |   |   |   |   |   |   |   |--- class: 0\n",
      "|   |   |   |   |   |   |   |   |--- feature_0 >  481.50\n",
      "|   |   |   |   |   |   |   |   |   |--- feature_5 <= 0.50\n",
      "|   |   |   |   |   |   |   |   |   |   |--- feature_3 <= 27.85\n",
      "|   |   |   |   |   |   |   |   |   |   |   |--- class: 0\n",
      "|   |   |   |   |   |   |   |   |   |   |--- feature_3 >  27.85\n",
      "|   |   |   |   |   |   |   |   |   |   |   |--- class: 1\n",
      "|   |   |   |   |   |   |   |   |   |--- feature_5 >  0.50\n",
      "|   |   |   |   |   |   |   |   |   |   |--- class: 0\n",
      "|   |   |   |   |   |--- feature_0 >  750.50\n",
      "|   |   |   |   |   |   |--- feature_3 <= 12.00\n",
      "|   |   |   |   |   |   |   |--- class: 0\n",
      "|   |   |   |   |   |   |--- feature_3 >  12.00\n",
      "|   |   |   |   |   |   |   |--- class: 1\n",
      "|   |   |--- feature_6 >  23.35\n",
      "|   |   |   |--- feature_0 <= 115.00\n",
      "|   |   |   |   |--- class: 1\n",
      "|   |   |   |--- feature_0 >  115.00\n",
      "|   |   |   |   |--- feature_3 <= 5.50\n",
      "|   |   |   |   |   |--- feature_0 <= 177.00\n",
      "|   |   |   |   |   |   |--- class: 0\n",
      "|   |   |   |   |   |--- feature_0 >  177.00\n",
      "|   |   |   |   |   |   |--- class: 1\n",
      "|   |   |   |   |--- feature_3 >  5.50\n",
      "|   |   |   |   |   |--- class: 0\n",
      "|--- feature_2 >  0.50\n",
      "|   |--- feature_1 <= 1.50\n",
      "|   |   |--- feature_0 <= 187.00\n",
      "|   |   |   |--- feature_3 <= 33.35\n",
      "|   |   |   |   |--- feature_0 <= 26.00\n",
      "|   |   |   |   |   |--- class: 1\n",
      "|   |   |   |   |--- feature_0 >  26.00\n",
      "|   |   |   |   |   |--- feature_0 <= 108.50\n",
      "|   |   |   |   |   |   |--- feature_0 <= 91.00\n",
      "|   |   |   |   |   |   |   |--- feature_6 <= 41.30\n",
      "|   |   |   |   |   |   |   |   |--- feature_0 <= 60.50\n",
      "|   |   |   |   |   |   |   |   |   |--- class: 1\n",
      "|   |   |   |   |   |   |   |   |--- feature_0 >  60.50\n",
      "|   |   |   |   |   |   |   |   |   |--- class: 0\n",
      "|   |   |   |   |   |   |   |--- feature_6 >  41.30\n",
      "|   |   |   |   |   |   |   |   |--- class: 0\n",
      "|   |   |   |   |   |   |--- feature_0 >  91.00\n",
      "|   |   |   |   |   |   |   |--- class: 1\n",
      "|   |   |   |   |   |--- feature_0 >  108.50\n",
      "|   |   |   |   |   |   |--- class: 0\n",
      "|   |   |   |--- feature_3 >  33.35\n",
      "|   |   |   |   |--- class: 0\n",
      "|   |   |--- feature_0 >  187.00\n",
      "|   |   |   |--- feature_3 <= 28.50\n",
      "|   |   |   |   |--- feature_3 <= 22.00\n",
      "|   |   |   |   |   |--- feature_5 <= 1.00\n",
      "|   |   |   |   |   |   |--- class: 0\n",
      "|   |   |   |   |   |--- feature_5 >  1.00\n",
      "|   |   |   |   |   |   |--- class: 1\n",
      "|   |   |   |   |--- feature_3 >  22.00\n",
      "|   |   |   |   |   |--- class: 1\n",
      "|   |   |   |--- feature_3 >  28.50\n",
      "|   |   |   |   |--- feature_0 <= 235.50\n",
      "|   |   |   |   |   |--- class: 1\n",
      "|   |   |   |   |--- feature_0 >  235.50\n",
      "|   |   |   |   |   |--- feature_6 <= 26.14\n",
      "|   |   |   |   |   |   |--- class: 0\n",
      "|   |   |   |   |   |--- feature_6 >  26.14\n",
      "|   |   |   |   |   |   |--- feature_6 <= 26.47\n",
      "|   |   |   |   |   |   |   |--- class: 1\n",
      "|   |   |   |   |   |   |--- feature_6 >  26.47\n",
      "|   |   |   |   |   |   |   |--- feature_0 <= 817.00\n",
      "|   |   |   |   |   |   |   |   |--- feature_0 <= 741.50\n",
      "|   |   |   |   |   |   |   |   |   |--- feature_0 <= 586.00\n",
      "|   |   |   |   |   |   |   |   |   |   |--- feature_0 <= 462.00\n",
      "|   |   |   |   |   |   |   |   |   |   |   |--- truncated branch of depth 6\n",
      "|   |   |   |   |   |   |   |   |   |   |--- feature_0 >  462.00\n",
      "|   |   |   |   |   |   |   |   |   |   |   |--- truncated branch of depth 3\n",
      "|   |   |   |   |   |   |   |   |   |--- feature_0 >  586.00\n",
      "|   |   |   |   |   |   |   |   |   |   |--- feature_0 <= 654.00\n",
      "|   |   |   |   |   |   |   |   |   |   |   |--- truncated branch of depth 2\n",
      "|   |   |   |   |   |   |   |   |   |   |--- feature_0 >  654.00\n",
      "|   |   |   |   |   |   |   |   |   |   |   |--- truncated branch of depth 4\n",
      "|   |   |   |   |   |   |   |   |--- feature_0 >  741.50\n",
      "|   |   |   |   |   |   |   |   |   |--- class: 0\n",
      "|   |   |   |   |   |   |   |--- feature_0 >  817.00\n",
      "|   |   |   |   |   |   |   |   |--- class: 1\n",
      "|   |--- feature_1 >  1.50\n",
      "|   |   |--- feature_3 <= 3.50\n",
      "|   |   |   |--- feature_4 <= 2.50\n",
      "|   |   |   |   |--- class: 1\n",
      "|   |   |   |--- feature_4 >  2.50\n",
      "|   |   |   |   |--- feature_3 <= 2.50\n",
      "|   |   |   |   |   |--- class: 0\n",
      "|   |   |   |   |--- feature_3 >  2.50\n",
      "|   |   |   |   |   |--- class: 1\n",
      "|   |   |--- feature_3 >  3.50\n",
      "|   |   |   |--- feature_3 <= 32.25\n",
      "|   |   |   |   |--- feature_3 <= 31.50\n",
      "|   |   |   |   |   |--- feature_0 <= 302.50\n",
      "|   |   |   |   |   |   |--- feature_0 <= 283.50\n",
      "|   |   |   |   |   |   |   |--- feature_6 <= 20.55\n",
      "|   |   |   |   |   |   |   |   |--- feature_6 <= 17.14\n",
      "|   |   |   |   |   |   |   |   |   |--- feature_3 <= 14.00\n",
      "|   |   |   |   |   |   |   |   |   |   |--- class: 1\n",
      "|   |   |   |   |   |   |   |   |   |--- feature_3 >  14.00\n",
      "|   |   |   |   |   |   |   |   |   |   |--- feature_6 <= 7.24\n",
      "|   |   |   |   |   |   |   |   |   |   |   |--- truncated branch of depth 5\n",
      "|   |   |   |   |   |   |   |   |   |   |--- feature_6 >  7.24\n",
      "|   |   |   |   |   |   |   |   |   |   |   |--- truncated branch of depth 8\n",
      "|   |   |   |   |   |   |   |   |--- feature_6 >  17.14\n",
      "|   |   |   |   |   |   |   |   |   |--- class: 1\n",
      "|   |   |   |   |   |   |   |--- feature_6 >  20.55\n",
      "|   |   |   |   |   |   |   |   |--- class: 0\n",
      "|   |   |   |   |   |   |--- feature_0 >  283.50\n",
      "|   |   |   |   |   |   |   |--- feature_6 <= 7.97\n",
      "|   |   |   |   |   |   |   |   |--- class: 0\n",
      "|   |   |   |   |   |   |   |--- feature_6 >  7.97\n",
      "|   |   |   |   |   |   |   |   |--- class: 1\n",
      "|   |   |   |   |   |--- feature_0 >  302.50\n",
      "|   |   |   |   |   |   |--- feature_3 <= 9.50\n",
      "|   |   |   |   |   |   |   |--- feature_4 <= 2.50\n",
      "|   |   |   |   |   |   |   |   |--- class: 1\n",
      "|   |   |   |   |   |   |   |--- feature_4 >  2.50\n",
      "|   |   |   |   |   |   |   |   |--- class: 0\n",
      "|   |   |   |   |   |   |--- feature_3 >  9.50\n",
      "|   |   |   |   |   |   |   |--- feature_3 <= 19.50\n",
      "|   |   |   |   |   |   |   |   |--- class: 0\n",
      "|   |   |   |   |   |   |   |--- feature_3 >  19.50\n",
      "|   |   |   |   |   |   |   |   |--- feature_3 <= 20.50\n",
      "|   |   |   |   |   |   |   |   |   |--- feature_4 <= 0.50\n",
      "|   |   |   |   |   |   |   |   |   |   |--- feature_6 <= 7.54\n",
      "|   |   |   |   |   |   |   |   |   |   |   |--- truncated branch of depth 2\n",
      "|   |   |   |   |   |   |   |   |   |   |--- feature_6 >  7.54\n",
      "|   |   |   |   |   |   |   |   |   |   |   |--- class: 0\n",
      "|   |   |   |   |   |   |   |   |   |--- feature_4 >  0.50\n",
      "|   |   |   |   |   |   |   |   |   |   |--- class: 1\n",
      "|   |   |   |   |   |   |   |   |--- feature_3 >  20.50\n",
      "|   |   |   |   |   |   |   |   |   |--- feature_0 <= 802.00\n",
      "|   |   |   |   |   |   |   |   |   |   |--- feature_6 <= 49.04\n",
      "|   |   |   |   |   |   |   |   |   |   |   |--- truncated branch of depth 8\n",
      "|   |   |   |   |   |   |   |   |   |   |--- feature_6 >  49.04\n",
      "|   |   |   |   |   |   |   |   |   |   |   |--- truncated branch of depth 2\n",
      "|   |   |   |   |   |   |   |   |   |--- feature_0 >  802.00\n",
      "|   |   |   |   |   |   |   |   |   |   |--- feature_0 <= 808.00\n",
      "|   |   |   |   |   |   |   |   |   |   |   |--- class: 1\n",
      "|   |   |   |   |   |   |   |   |   |   |--- feature_0 >  808.00\n",
      "|   |   |   |   |   |   |   |   |   |   |   |--- truncated branch of depth 5\n",
      "|   |   |   |   |--- feature_3 >  31.50\n",
      "|   |   |   |   |   |--- feature_1 <= 2.50\n",
      "|   |   |   |   |   |   |--- class: 0\n",
      "|   |   |   |   |   |--- feature_1 >  2.50\n",
      "|   |   |   |   |   |   |--- feature_0 <= 865.00\n",
      "|   |   |   |   |   |   |   |--- feature_6 <= 32.43\n",
      "|   |   |   |   |   |   |   |   |--- feature_6 <= 8.21\n",
      "|   |   |   |   |   |   |   |   |   |--- feature_0 <= 406.50\n",
      "|   |   |   |   |   |   |   |   |   |   |--- class: 0\n",
      "|   |   |   |   |   |   |   |   |   |--- feature_0 >  406.50\n",
      "|   |   |   |   |   |   |   |   |   |   |--- class: 1\n",
      "|   |   |   |   |   |   |   |   |--- feature_6 >  8.21\n",
      "|   |   |   |   |   |   |   |   |   |--- class: 0\n",
      "|   |   |   |   |   |   |   |--- feature_6 >  32.43\n",
      "|   |   |   |   |   |   |   |   |--- class: 1\n",
      "|   |   |   |   |   |   |--- feature_0 >  865.00\n",
      "|   |   |   |   |   |   |   |--- class: 0\n",
      "|   |   |   |--- feature_3 >  32.25\n",
      "|   |   |   |   |--- feature_3 <= 61.50\n",
      "|   |   |   |   |   |--- feature_0 <= 433.00\n",
      "|   |   |   |   |   |   |--- feature_0 <= 399.50\n",
      "|   |   |   |   |   |   |   |--- feature_0 <= 287.50\n",
      "|   |   |   |   |   |   |   |   |--- class: 0\n",
      "|   |   |   |   |   |   |   |--- feature_0 >  287.50\n",
      "|   |   |   |   |   |   |   |   |--- feature_0 <= 291.00\n",
      "|   |   |   |   |   |   |   |   |   |--- class: 1\n",
      "|   |   |   |   |   |   |   |   |--- feature_0 >  291.00\n",
      "|   |   |   |   |   |   |   |   |   |--- class: 0\n",
      "|   |   |   |   |   |   |--- feature_0 >  399.50\n",
      "|   |   |   |   |   |   |   |--- feature_3 <= 47.50\n",
      "|   |   |   |   |   |   |   |   |--- class: 1\n",
      "|   |   |   |   |   |   |   |--- feature_3 >  47.50\n",
      "|   |   |   |   |   |   |   |   |--- class: 0\n",
      "|   |   |   |   |   |--- feature_0 >  433.00\n",
      "|   |   |   |   |   |   |--- class: 0\n",
      "|   |   |   |   |--- feature_3 >  61.50\n",
      "|   |   |   |   |   |--- feature_3 <= 63.50\n",
      "|   |   |   |   |   |   |--- class: 1\n",
      "|   |   |   |   |   |--- feature_3 >  63.50\n",
      "|   |   |   |   |   |   |--- class: 0\n",
      "\n"
     ]
    }
   ],
   "source": [
    "dot_data = tree.export_graphviz(clf, out_file=None)\n",
    "graph = graphviz.Source(dot_data)\n",
    "graph.render(view=True)\n",
    "text_representation = tree.export_text(clf)\n",
    "print(text_representation)"
   ]
  },
  {
   "cell_type": "markdown",
   "id": "906beb84",
   "metadata": {},
   "source": [
    "there are 712 data records in the node, the data is distributed to 444, and 268.\n",
    "After the first split based on X[2] <= 0.5, all samples meeting the criteria are placed on the left, which are 252. Those who don't (460) are put into the node on the right."
   ]
  },
  {
   "cell_type": "markdown",
   "id": "7b961c64",
   "metadata": {},
   "source": [
    "3. Change the decision tree parameters(at least two parameters).  pruning"
   ]
  },
  {
   "cell_type": "code",
   "execution_count": 18,
   "id": "4b662eaa",
   "metadata": {},
   "outputs": [],
   "source": [
    "dtree = tree.DecisionTreeClassifier(criterion = \"gini\", splitter = \"random\", max_leaf_nodes = 10, min_samples_leaf = 5, max_depth = 5)"
   ]
  },
  {
   "cell_type": "markdown",
   "id": "590f1257",
   "metadata": {},
   "source": [
    "4. Calculate the new accuracy and compare it with the previous results. "
   ]
  },
  {
   "cell_type": "code",
   "execution_count": 19,
   "id": "5f243a6c",
   "metadata": {},
   "outputs": [
    {
     "name": "stdout",
     "output_type": "stream",
     "text": [
      "score:0.770949720670391\n"
     ]
    }
   ],
   "source": [
    "dtree.fit(x_train, y_train)   \n",
    "y_pred=dtree.predict(x_test)   \n",
    "print(\"score:{}\".format(accuracy_score(y_test, y_pred)))"
   ]
  },
  {
   "cell_type": "code",
   "execution_count": 20,
   "id": "a684bdc0",
   "metadata": {
    "scrolled": true
   },
   "outputs": [
    {
     "name": "stdout",
     "output_type": "stream",
     "text": [
      "|--- feature_2 <= 0.72\n",
      "|   |--- feature_1 <= 2.85\n",
      "|   |   |--- class: 1\n",
      "|   |--- feature_1 >  2.85\n",
      "|   |   |--- feature_5 <= 3.93\n",
      "|   |   |   |--- feature_5 <= 0.41\n",
      "|   |   |   |   |--- class: 1\n",
      "|   |   |   |--- feature_5 >  0.41\n",
      "|   |   |   |   |--- feature_6 <= 32.67\n",
      "|   |   |   |   |   |--- class: 0\n",
      "|   |   |   |   |--- feature_6 >  32.67\n",
      "|   |   |   |   |   |--- class: 0\n",
      "|   |   |--- feature_5 >  3.93\n",
      "|   |   |   |--- class: 0\n",
      "|--- feature_2 >  0.72\n",
      "|   |--- feature_1 <= 2.58\n",
      "|   |   |--- feature_1 <= 1.66\n",
      "|   |   |   |--- feature_3 <= 45.49\n",
      "|   |   |   |   |--- class: 0\n",
      "|   |   |   |--- feature_3 >  45.49\n",
      "|   |   |   |   |--- class: 0\n",
      "|   |   |--- feature_1 >  1.66\n",
      "|   |   |   |--- feature_5 <= 0.49\n",
      "|   |   |   |   |--- class: 0\n",
      "|   |   |   |--- feature_5 >  0.49\n",
      "|   |   |   |   |--- class: 0\n",
      "|   |--- feature_1 >  2.58\n",
      "|   |   |--- class: 0\n",
      "\n"
     ]
    }
   ],
   "source": [
    "dot_data = tree.export_graphviz(dtree, out_file=None)\n",
    "graph = graphviz.Source(dot_data)\n",
    "graph.render(view=True)\n",
    "text_representation = tree.export_text(dtree)\n",
    "print(text_representation)"
   ]
  },
  {
   "cell_type": "markdown",
   "id": "9147d815",
   "metadata": {},
   "source": [
    "the accuracy after the pruning is slightly lower than the decision tree (0.770949720670391< 0.7877094972067039). the decision tree is more accurate."
   ]
  },
  {
   "cell_type": "markdown",
   "id": "d3448df8",
   "metadata": {},
   "source": [
    "5. Use a random forest then change the number of estimators."
   ]
  },
  {
   "cell_type": "code",
   "execution_count": 33,
   "id": "4712bc68",
   "metadata": {},
   "outputs": [
    {
     "data": {
      "text/html": [
       "<style>#sk-container-id-3 {color: black;background-color: white;}#sk-container-id-3 pre{padding: 0;}#sk-container-id-3 div.sk-toggleable {background-color: white;}#sk-container-id-3 label.sk-toggleable__label {cursor: pointer;display: block;width: 100%;margin-bottom: 0;padding: 0.3em;box-sizing: border-box;text-align: center;}#sk-container-id-3 label.sk-toggleable__label-arrow:before {content: \"▸\";float: left;margin-right: 0.25em;color: #696969;}#sk-container-id-3 label.sk-toggleable__label-arrow:hover:before {color: black;}#sk-container-id-3 div.sk-estimator:hover label.sk-toggleable__label-arrow:before {color: black;}#sk-container-id-3 div.sk-toggleable__content {max-height: 0;max-width: 0;overflow: hidden;text-align: left;background-color: #f0f8ff;}#sk-container-id-3 div.sk-toggleable__content pre {margin: 0.2em;color: black;border-radius: 0.25em;background-color: #f0f8ff;}#sk-container-id-3 input.sk-toggleable__control:checked~div.sk-toggleable__content {max-height: 200px;max-width: 100%;overflow: auto;}#sk-container-id-3 input.sk-toggleable__control:checked~label.sk-toggleable__label-arrow:before {content: \"▾\";}#sk-container-id-3 div.sk-estimator input.sk-toggleable__control:checked~label.sk-toggleable__label {background-color: #d4ebff;}#sk-container-id-3 div.sk-label input.sk-toggleable__control:checked~label.sk-toggleable__label {background-color: #d4ebff;}#sk-container-id-3 input.sk-hidden--visually {border: 0;clip: rect(1px 1px 1px 1px);clip: rect(1px, 1px, 1px, 1px);height: 1px;margin: -1px;overflow: hidden;padding: 0;position: absolute;width: 1px;}#sk-container-id-3 div.sk-estimator {font-family: monospace;background-color: #f0f8ff;border: 1px dotted black;border-radius: 0.25em;box-sizing: border-box;margin-bottom: 0.5em;}#sk-container-id-3 div.sk-estimator:hover {background-color: #d4ebff;}#sk-container-id-3 div.sk-parallel-item::after {content: \"\";width: 100%;border-bottom: 1px solid gray;flex-grow: 1;}#sk-container-id-3 div.sk-label:hover label.sk-toggleable__label {background-color: #d4ebff;}#sk-container-id-3 div.sk-serial::before {content: \"\";position: absolute;border-left: 1px solid gray;box-sizing: border-box;top: 0;bottom: 0;left: 50%;z-index: 0;}#sk-container-id-3 div.sk-serial {display: flex;flex-direction: column;align-items: center;background-color: white;padding-right: 0.2em;padding-left: 0.2em;position: relative;}#sk-container-id-3 div.sk-item {position: relative;z-index: 1;}#sk-container-id-3 div.sk-parallel {display: flex;align-items: stretch;justify-content: center;background-color: white;position: relative;}#sk-container-id-3 div.sk-item::before, #sk-container-id-3 div.sk-parallel-item::before {content: \"\";position: absolute;border-left: 1px solid gray;box-sizing: border-box;top: 0;bottom: 0;left: 50%;z-index: -1;}#sk-container-id-3 div.sk-parallel-item {display: flex;flex-direction: column;z-index: 1;position: relative;background-color: white;}#sk-container-id-3 div.sk-parallel-item:first-child::after {align-self: flex-end;width: 50%;}#sk-container-id-3 div.sk-parallel-item:last-child::after {align-self: flex-start;width: 50%;}#sk-container-id-3 div.sk-parallel-item:only-child::after {width: 0;}#sk-container-id-3 div.sk-dashed-wrapped {border: 1px dashed gray;margin: 0 0.4em 0.5em 0.4em;box-sizing: border-box;padding-bottom: 0.4em;background-color: white;}#sk-container-id-3 div.sk-label label {font-family: monospace;font-weight: bold;display: inline-block;line-height: 1.2em;}#sk-container-id-3 div.sk-label-container {text-align: center;}#sk-container-id-3 div.sk-container {/* jupyter's `normalize.less` sets `[hidden] { display: none; }` but bootstrap.min.css set `[hidden] { display: none !important; }` so we also need the `!important` here to be able to override the default hidden behavior on the sphinx rendered scikit-learn.org. See: https://github.com/scikit-learn/scikit-learn/issues/21755 */display: inline-block !important;position: relative;}#sk-container-id-3 div.sk-text-repr-fallback {display: none;}</style><div id=\"sk-container-id-3\" class=\"sk-top-container\"><div class=\"sk-text-repr-fallback\"><pre>RandomForestClassifier(n_estimators=50)</pre><b>In a Jupyter environment, please rerun this cell to show the HTML representation or trust the notebook. <br />On GitHub, the HTML representation is unable to render, please try loading this page with nbviewer.org.</b></div><div class=\"sk-container\" hidden><div class=\"sk-item\"><div class=\"sk-estimator sk-toggleable\"><input class=\"sk-toggleable__control sk-hidden--visually\" id=\"sk-estimator-id-3\" type=\"checkbox\" checked><label for=\"sk-estimator-id-3\" class=\"sk-toggleable__label sk-toggleable__label-arrow\">RandomForestClassifier</label><div class=\"sk-toggleable__content\"><pre>RandomForestClassifier(n_estimators=50)</pre></div></div></div></div></div>"
      ],
      "text/plain": [
       "RandomForestClassifier(n_estimators=50)"
      ]
     },
     "execution_count": 33,
     "metadata": {},
     "output_type": "execute_result"
    }
   ],
   "source": [
    "X_train, X_test, y_train, y_test = train_test_split(X, y, test_size=0.3, random_state=44)\n",
    "rf_model = RandomForestClassifier(n_estimators=50)\n",
    "rf_model.fit(X_train, y_train)"
   ]
  },
  {
   "cell_type": "markdown",
   "id": "7c5ccb94",
   "metadata": {},
   "source": [
    "6. Calculate the new accuracy and compare it with the previous result."
   ]
  },
  {
   "cell_type": "code",
   "execution_count": 44,
   "id": "fd848083",
   "metadata": {},
   "outputs": [
    {
     "name": "stdout",
     "output_type": "stream",
     "text": [
      "score:0.9566666666666667\n"
     ]
    }
   ],
   "source": [
    "predictions = rf_model.predict(X_test)\n",
    "print(\"score:{}\".format(accuracy_score(y_test, predictions)))"
   ]
  },
  {
   "cell_type": "markdown",
   "id": "649d5e21",
   "metadata": {},
   "source": [
    "the accuracy of the random forest model is higher than the previous (0.9566666666666667>0.770949720670391), and also higher than the decision tree so the accuracy of the random forest model is the best."
   ]
  }
 ],
 "metadata": {
  "kernelspec": {
   "display_name": "Python 3 (ipykernel)",
   "language": "python",
   "name": "python3"
  },
  "language_info": {
   "codemirror_mode": {
    "name": "ipython",
    "version": 3
   },
   "file_extension": ".py",
   "mimetype": "text/x-python",
   "name": "python",
   "nbconvert_exporter": "python",
   "pygments_lexer": "ipython3",
   "version": "3.9.12"
  }
 },
 "nbformat": 4,
 "nbformat_minor": 5
}
