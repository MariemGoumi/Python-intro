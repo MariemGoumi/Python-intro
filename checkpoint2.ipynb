{
 "cells": [
  {
   "cell_type": "markdown",
   "id": "03dbd126",
   "metadata": {},
   "source": [
    "Question1: "
   ]
  },
  {
   "cell_type": "code",
   "execution_count": 20,
   "id": "f101d57a",
   "metadata": {},
   "outputs": [
    {
     "name": "stdout",
     "output_type": "stream",
     "text": [
      "[2002, 2009, 2016, 2023, 2037, 2044, 2051, 2058, 2072, 2079, 2086, 2093, 2107, 2114, 2121, 2128, 2142, 2149, 2156, 2163, 2177, 2184, 2191, 2198, 2212, 2219, 2226, 2233, 2247, 2254, 2261, 2268, 2282, 2289, 2296, 2303, 2317, 2324, 2331, 2338, 2352, 2359, 2366, 2373, 2387, 2394, 2401, 2408, 2422, 2429, 2436, 2443, 2457, 2464, 2471, 2478, 2492, 2499, 2506, 2513, 2527, 2534, 2541, 2548, 2562, 2569, 2576, 2583, 2597, 2604, 2611, 2618, 2632, 2639, 2646, 2653, 2667, 2674, 2681, 2688, 2702, 2709, 2716, 2723, 2737, 2744, 2751, 2758, 2772, 2779, 2786, 2793, 2807, 2814, 2821, 2828, 2842, 2849, 2856, 2863, 2877, 2884, 2891, 2898, 2912, 2919, 2926, 2933, 2947, 2954, 2961, 2968, 2982, 2989, 2996, 3003, 3017, 3024, 3031, 3038, 3052, 3059, 3066, 3073, 3087, 3094, 3101, 3108, 3122, 3129, 3136, 3143, 3157, 3164, 3171, 3178, 3192, 3199]\n"
     ]
    }
   ],
   "source": [
    "TheList= [i for i in range(2000, 3200) \n",
    "    if (i % 7 == 0) and (i%5!=0) ]\n",
    "\n",
    "print(TheList)\n"
   ]
  },
  {
   "cell_type": "markdown",
   "id": "569d1283",
   "metadata": {},
   "source": [
    "Question2:"
   ]
  },
  {
   "cell_type": "code",
   "execution_count": 18,
   "id": "3dead0cf",
   "metadata": {},
   "outputs": [
    {
     "name": "stdin",
     "output_type": "stream",
     "text": [
      " 30\n"
     ]
    },
    {
     "name": "stdout",
     "output_type": "stream",
     "text": [
      "265252859812191058636308480000000\n"
     ]
    }
   ],
   "source": [
    "import math\n",
    "n= int (input())\n",
    "print(math.factorial (n))"
   ]
  },
  {
   "cell_type": "code",
   "execution_count": 37,
   "id": "2240a40c-4106-4b0e-a414-d5620a70ca2a",
   "metadata": {},
   "outputs": [
    {
     "name": "stdin",
     "output_type": "stream",
     "text": [
      " 0\n"
     ]
    },
    {
     "name": "stdout",
     "output_type": "stream",
     "text": [
      "1\n"
     ]
    }
   ],
   "source": [
    "n= int (input())\n",
    "fact = 1\n",
    "if n == 0 :\n",
    "    print(1)\n",
    "else:\n",
    "    for i in range (1, n+1):\n",
    "         fact=fact*i\n",
    "    print (fact)"
   ]
  },
  {
   "cell_type": "markdown",
   "id": "445ffacd",
   "metadata": {},
   "source": [
    "Question3:"
   ]
  },
  {
   "cell_type": "code",
   "execution_count": 53,
   "id": "8d2a0991-d213-4bca-955d-cb671a5da5d8",
   "metadata": {},
   "outputs": [
    {
     "name": "stdin",
     "output_type": "stream",
     "text": [
      " 8\n"
     ]
    },
    {
     "name": "stdout",
     "output_type": "stream",
     "text": [
      "{1: 1, 2: 4, 3: 9, 4: 16, 5: 25, 6: 36, 7: 49, 8: 64}\n"
     ]
    }
   ],
   "source": [
    "n = int (input())  \n",
    "dictionary={}\n",
    "for i in range(1, n+1):\n",
    "    dictionary[i]=i*i\n",
    "print(dictionary) "
   ]
  },
  {
   "cell_type": "markdown",
   "id": "0abf95b8",
   "metadata": {},
   "source": [
    "Question 4 "
   ]
  },
  {
   "cell_type": "code",
   "execution_count": 66,
   "id": "9fb91cc3-0c65-4f8f-b44a-adb20d4080b9",
   "metadata": {},
   "outputs": [
    {
     "name": "stdin",
     "output_type": "stream",
     "text": [
      " kitten\n",
      " 1\n"
     ]
    },
    {
     "name": "stdout",
     "output_type": "stream",
     "text": [
      "ktten\n"
     ]
    }
   ],
   "source": [
    "word = str (input())\n",
    "n = int (input())  \n",
    "print(remove_char(word, n))"
   ]
  },
  {
   "cell_type": "markdown",
   "id": "ac52622f",
   "metadata": {},
   "source": [
    "Question 5 "
   ]
  },
  {
   "cell_type": "code",
   "execution_count": 80,
   "id": "354ca0c3-0ed6-445c-9c5c-9e664cc06c20",
   "metadata": {},
   "outputs": [
    {
     "name": "stdout",
     "output_type": "stream",
     "text": [
      "Original array elements: [[0 1]\n",
      " [2 3]\n",
      " [4 5]]\n",
      "Array to list: [[0, 1], [2, 3], [4, 5]]\n"
     ]
    }
   ],
   "source": [
    "import numpy as np\n",
    "x= np.arange(6).reshape(3, 2)\n",
    "print(\"Original array elements:\", x)\n",
    "print(\"Array to list:\", x.tolist())\n",
    "\n"
   ]
  },
  {
   "cell_type": "markdown",
   "id": "ced53c0b",
   "metadata": {},
   "source": [
    "Question 6"
   ]
  },
  {
   "cell_type": "code",
   "execution_count": 82,
   "id": "c3423c0b-190d-4fc3-bdb7-a461ffda742d",
   "metadata": {},
   "outputs": [
    {
     "name": "stdout",
     "output_type": "stream",
     "text": [
      "Array to list: [[ 1. -1.]\n",
      " [-1.  1.]]\n"
     ]
    }
   ],
   "source": [
    "import numpy as np\n",
    "OgArray1 = np.array([0 , 1 , 2] ) \n",
    "OgArray2 = ([2 ,1 ,0])\n",
    "print(\"Array to list:\", np.cov(OgArray1, OgArray2))"
   ]
  },
  {
   "cell_type": "markdown",
   "id": "24058304",
   "metadata": {},
   "source": [
    "Question 7"
   ]
  },
  {
   "cell_type": "code",
   "execution_count": 87,
   "id": "a3982549-0c49-4452-8d15-f6036f843bc0",
   "metadata": {},
   "outputs": [
    {
     "name": "stdin",
     "output_type": "stream",
     "text": [
      " 100,150,180\n"
     ]
    },
    {
     "name": "stdout",
     "output_type": "stream",
     "text": [
      "18,22,24\n"
     ]
    }
   ],
   "source": [
    "import math\n",
    "C=50\n",
    "H=30\n",
    "value = []\n",
    "items=[i for i in input().split(',')]\n",
    "for D in items:\n",
    "    value.append(str(int(round(math.sqrt(2*C*float(D)/H)))))\n",
    "\n",
    "print(','.join(value))"
   ]
  }
 ],
 "metadata": {
  "kernelspec": {
   "display_name": "Python 3 (ipykernel)",
   "language": "python",
   "name": "python3"
  },
  "language_info": {
   "codemirror_mode": {
    "name": "ipython",
    "version": 3
   },
   "file_extension": ".py",
   "mimetype": "text/x-python",
   "name": "python",
   "nbconvert_exporter": "python",
   "pygments_lexer": "ipython3",
   "version": "3.9.12"
  }
 },
 "nbformat": 4,
 "nbformat_minor": 5
}
