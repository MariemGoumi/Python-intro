{
 "cells": [
  {
   "cell_type": "code",
   "execution_count": 1,
   "id": "dffe7a96",
   "metadata": {},
   "outputs": [
    {
     "name": "stdout",
     "output_type": "stream",
     "text": [
      "   sepal.length  sepal.width  petal.length  petal.width variety\n",
      "0           5.1          3.5           1.4          0.2  Setosa\n",
      "1           4.9          3.0           1.4          0.2  Setosa\n",
      "2           4.7          3.2           1.3          0.2  Setosa\n",
      "3           4.6          3.1           1.5          0.2  Setosa\n",
      "4           5.0          3.6           1.4          0.2  Setosa \n",
      " \n",
      "\n",
      "<class 'pandas.core.frame.DataFrame'>\n",
      "RangeIndex: 150 entries, 0 to 149\n",
      "Data columns (total 5 columns):\n",
      " #   Column        Non-Null Count  Dtype  \n",
      "---  ------        --------------  -----  \n",
      " 0   sepal.length  150 non-null    float64\n",
      " 1   sepal.width   150 non-null    float64\n",
      " 2   petal.length  150 non-null    float64\n",
      " 3   petal.width   150 non-null    float64\n",
      " 4   variety       150 non-null    object \n",
      "dtypes: float64(4), object(1)\n",
      "memory usage: 6.0+ KB\n"
     ]
    }
   ],
   "source": [
    "import pandas as pd\n",
    "df = pd.read_csv(r'C:\\Users\\Meriem\\Desktop\\AI\\iris.csv', sep=\",\")\n",
    "print(df.head().to_string(),'\\n \\n') \n",
    "df.info()"
   ]
  },
  {
   "cell_type": "code",
   "execution_count": 2,
   "id": "99422157",
   "metadata": {},
   "outputs": [],
   "source": [
    "from sklearn.model_selection import train_test_split\n",
    "from sklearn.neighbors import KNeighborsClassifier\n",
    "from sklearn.metrics import accuracy_score\n",
    "import csv\n",
    "import random"
   ]
  },
  {
   "cell_type": "markdown",
   "id": "f2fc3922",
   "metadata": {},
   "source": [
    "1. Handle Data"
   ]
  },
  {
   "cell_type": "code",
   "execution_count": 3,
   "id": "7c60dffd",
   "metadata": {},
   "outputs": [
    {
     "name": "stdout",
     "output_type": "stream",
     "text": [
      "sepal.length, sepal.width, petal.length, petal.width, variety\n",
      "5.1, 3.5, 1.4, .2, Setosa\n",
      "4.9, 3, 1.4, .2, Setosa\n",
      "4.7, 3.2, 1.3, .2, Setosa\n",
      "4.6, 3.1, 1.5, .2, Setosa\n",
      "5, 3.6, 1.4, .2, Setosa\n",
      "5.4, 3.9, 1.7, .4, Setosa\n",
      "4.6, 3.4, 1.4, .3, Setosa\n",
      "5, 3.4, 1.5, .2, Setosa\n",
      "4.4, 2.9, 1.4, .2, Setosa\n",
      "4.9, 3.1, 1.5, .1, Setosa\n",
      "5.4, 3.7, 1.5, .2, Setosa\n",
      "4.8, 3.4, 1.6, .2, Setosa\n",
      "4.8, 3, 1.4, .1, Setosa\n",
      "4.3, 3, 1.1, .1, Setosa\n",
      "5.8, 4, 1.2, .2, Setosa\n",
      "5.7, 4.4, 1.5, .4, Setosa\n",
      "5.4, 3.9, 1.3, .4, Setosa\n",
      "5.1, 3.5, 1.4, .3, Setosa\n",
      "5.7, 3.8, 1.7, .3, Setosa\n",
      "5.1, 3.8, 1.5, .3, Setosa\n",
      "5.4, 3.4, 1.7, .2, Setosa\n",
      "5.1, 3.7, 1.5, .4, Setosa\n",
      "4.6, 3.6, 1, .2, Setosa\n",
      "5.1, 3.3, 1.7, .5, Setosa\n",
      "4.8, 3.4, 1.9, .2, Setosa\n",
      "5, 3, 1.6, .2, Setosa\n",
      "5, 3.4, 1.6, .4, Setosa\n",
      "5.2, 3.5, 1.5, .2, Setosa\n",
      "5.2, 3.4, 1.4, .2, Setosa\n",
      "4.7, 3.2, 1.6, .2, Setosa\n",
      "4.8, 3.1, 1.6, .2, Setosa\n",
      "5.4, 3.4, 1.5, .4, Setosa\n",
      "5.2, 4.1, 1.5, .1, Setosa\n",
      "5.5, 4.2, 1.4, .2, Setosa\n",
      "4.9, 3.1, 1.5, .2, Setosa\n",
      "5, 3.2, 1.2, .2, Setosa\n",
      "5.5, 3.5, 1.3, .2, Setosa\n",
      "4.9, 3.6, 1.4, .1, Setosa\n",
      "4.4, 3, 1.3, .2, Setosa\n",
      "5.1, 3.4, 1.5, .2, Setosa\n",
      "5, 3.5, 1.3, .3, Setosa\n",
      "4.5, 2.3, 1.3, .3, Setosa\n",
      "4.4, 3.2, 1.3, .2, Setosa\n",
      "5, 3.5, 1.6, .6, Setosa\n",
      "5.1, 3.8, 1.9, .4, Setosa\n",
      "4.8, 3, 1.4, .3, Setosa\n",
      "5.1, 3.8, 1.6, .2, Setosa\n",
      "4.6, 3.2, 1.4, .2, Setosa\n",
      "5.3, 3.7, 1.5, .2, Setosa\n",
      "5, 3.3, 1.4, .2, Setosa\n",
      "7, 3.2, 4.7, 1.4, Versicolor\n",
      "6.4, 3.2, 4.5, 1.5, Versicolor\n",
      "6.9, 3.1, 4.9, 1.5, Versicolor\n",
      "5.5, 2.3, 4, 1.3, Versicolor\n",
      "6.5, 2.8, 4.6, 1.5, Versicolor\n",
      "5.7, 2.8, 4.5, 1.3, Versicolor\n",
      "6.3, 3.3, 4.7, 1.6, Versicolor\n",
      "4.9, 2.4, 3.3, 1, Versicolor\n",
      "6.6, 2.9, 4.6, 1.3, Versicolor\n",
      "5.2, 2.7, 3.9, 1.4, Versicolor\n",
      "5, 2, 3.5, 1, Versicolor\n",
      "5.9, 3, 4.2, 1.5, Versicolor\n",
      "6, 2.2, 4, 1, Versicolor\n",
      "6.1, 2.9, 4.7, 1.4, Versicolor\n",
      "5.6, 2.9, 3.6, 1.3, Versicolor\n",
      "6.7, 3.1, 4.4, 1.4, Versicolor\n",
      "5.6, 3, 4.5, 1.5, Versicolor\n",
      "5.8, 2.7, 4.1, 1, Versicolor\n",
      "6.2, 2.2, 4.5, 1.5, Versicolor\n",
      "5.6, 2.5, 3.9, 1.1, Versicolor\n",
      "5.9, 3.2, 4.8, 1.8, Versicolor\n",
      "6.1, 2.8, 4, 1.3, Versicolor\n",
      "6.3, 2.5, 4.9, 1.5, Versicolor\n",
      "6.1, 2.8, 4.7, 1.2, Versicolor\n",
      "6.4, 2.9, 4.3, 1.3, Versicolor\n",
      "6.6, 3, 4.4, 1.4, Versicolor\n",
      "6.8, 2.8, 4.8, 1.4, Versicolor\n",
      "6.7, 3, 5, 1.7, Versicolor\n",
      "6, 2.9, 4.5, 1.5, Versicolor\n",
      "5.7, 2.6, 3.5, 1, Versicolor\n",
      "5.5, 2.4, 3.8, 1.1, Versicolor\n",
      "5.5, 2.4, 3.7, 1, Versicolor\n",
      "5.8, 2.7, 3.9, 1.2, Versicolor\n",
      "6, 2.7, 5.1, 1.6, Versicolor\n",
      "5.4, 3, 4.5, 1.5, Versicolor\n",
      "6, 3.4, 4.5, 1.6, Versicolor\n",
      "6.7, 3.1, 4.7, 1.5, Versicolor\n",
      "6.3, 2.3, 4.4, 1.3, Versicolor\n",
      "5.6, 3, 4.1, 1.3, Versicolor\n",
      "5.5, 2.5, 4, 1.3, Versicolor\n",
      "5.5, 2.6, 4.4, 1.2, Versicolor\n",
      "6.1, 3, 4.6, 1.4, Versicolor\n",
      "5.8, 2.6, 4, 1.2, Versicolor\n",
      "5, 2.3, 3.3, 1, Versicolor\n",
      "5.6, 2.7, 4.2, 1.3, Versicolor\n",
      "5.7, 3, 4.2, 1.2, Versicolor\n",
      "5.7, 2.9, 4.2, 1.3, Versicolor\n",
      "6.2, 2.9, 4.3, 1.3, Versicolor\n",
      "5.1, 2.5, 3, 1.1, Versicolor\n",
      "5.7, 2.8, 4.1, 1.3, Versicolor\n",
      "6.3, 3.3, 6, 2.5, Virginica\n",
      "5.8, 2.7, 5.1, 1.9, Virginica\n",
      "7.1, 3, 5.9, 2.1, Virginica\n",
      "6.3, 2.9, 5.6, 1.8, Virginica\n",
      "6.5, 3, 5.8, 2.2, Virginica\n",
      "7.6, 3, 6.6, 2.1, Virginica\n",
      "4.9, 2.5, 4.5, 1.7, Virginica\n",
      "7.3, 2.9, 6.3, 1.8, Virginica\n",
      "6.7, 2.5, 5.8, 1.8, Virginica\n",
      "7.2, 3.6, 6.1, 2.5, Virginica\n",
      "6.5, 3.2, 5.1, 2, Virginica\n",
      "6.4, 2.7, 5.3, 1.9, Virginica\n",
      "6.8, 3, 5.5, 2.1, Virginica\n",
      "5.7, 2.5, 5, 2, Virginica\n",
      "5.8, 2.8, 5.1, 2.4, Virginica\n",
      "6.4, 3.2, 5.3, 2.3, Virginica\n",
      "6.5, 3, 5.5, 1.8, Virginica\n",
      "7.7, 3.8, 6.7, 2.2, Virginica\n",
      "7.7, 2.6, 6.9, 2.3, Virginica\n",
      "6, 2.2, 5, 1.5, Virginica\n",
      "6.9, 3.2, 5.7, 2.3, Virginica\n",
      "5.6, 2.8, 4.9, 2, Virginica\n",
      "7.7, 2.8, 6.7, 2, Virginica\n",
      "6.3, 2.7, 4.9, 1.8, Virginica\n",
      "6.7, 3.3, 5.7, 2.1, Virginica\n",
      "7.2, 3.2, 6, 1.8, Virginica\n",
      "6.2, 2.8, 4.8, 1.8, Virginica\n",
      "6.1, 3, 4.9, 1.8, Virginica\n",
      "6.4, 2.8, 5.6, 2.1, Virginica\n",
      "7.2, 3, 5.8, 1.6, Virginica\n",
      "7.4, 2.8, 6.1, 1.9, Virginica\n",
      "7.9, 3.8, 6.4, 2, Virginica\n",
      "6.4, 2.8, 5.6, 2.2, Virginica\n",
      "6.3, 2.8, 5.1, 1.5, Virginica\n",
      "6.1, 2.6, 5.6, 1.4, Virginica\n",
      "7.7, 3, 6.1, 2.3, Virginica\n",
      "6.3, 3.4, 5.6, 2.4, Virginica\n",
      "6.4, 3.1, 5.5, 1.8, Virginica\n",
      "6, 3, 4.8, 1.8, Virginica\n",
      "6.9, 3.1, 5.4, 2.1, Virginica\n",
      "6.7, 3.1, 5.6, 2.4, Virginica\n",
      "6.9, 3.1, 5.1, 2.3, Virginica\n",
      "5.8, 2.7, 5.1, 1.9, Virginica\n",
      "6.8, 3.2, 5.9, 2.3, Virginica\n",
      "6.7, 3.3, 5.7, 2.5, Virginica\n",
      "6.7, 3, 5.2, 2.3, Virginica\n",
      "6.3, 2.5, 5, 1.9, Virginica\n",
      "6.5, 3, 5.2, 2, Virginica\n",
      "6.2, 3.4, 5.4, 2.3, Virginica\n",
      "5.9, 3, 5.1, 1.8, Virginica\n"
     ]
    }
   ],
   "source": [
    "import csv\n",
    "with open(r'C:\\Users\\Meriem\\Desktop\\AI\\iris.csv') as csvfile:\n",
    "    lines = csv.reader(csvfile)\n",
    "    for row in lines:\n",
    "        print (', '.join(row))"
   ]
  },
  {
   "cell_type": "code",
   "execution_count": 4,
   "id": "8bd27cfe",
   "metadata": {},
   "outputs": [
    {
     "data": {
      "text/html": [
       "<div>\n",
       "<style scoped>\n",
       "    .dataframe tbody tr th:only-of-type {\n",
       "        vertical-align: middle;\n",
       "    }\n",
       "\n",
       "    .dataframe tbody tr th {\n",
       "        vertical-align: top;\n",
       "    }\n",
       "\n",
       "    .dataframe thead th {\n",
       "        text-align: right;\n",
       "    }\n",
       "</style>\n",
       "<table border=\"1\" class=\"dataframe\">\n",
       "  <thead>\n",
       "    <tr style=\"text-align: right;\">\n",
       "      <th></th>\n",
       "      <th>sepal.length</th>\n",
       "      <th>sepal.width</th>\n",
       "      <th>petal.length</th>\n",
       "      <th>petal.width</th>\n",
       "      <th>variety</th>\n",
       "    </tr>\n",
       "  </thead>\n",
       "  <tbody>\n",
       "    <tr>\n",
       "      <th>0</th>\n",
       "      <td>5.1</td>\n",
       "      <td>3.5</td>\n",
       "      <td>1.4</td>\n",
       "      <td>0.2</td>\n",
       "      <td>0</td>\n",
       "    </tr>\n",
       "    <tr>\n",
       "      <th>1</th>\n",
       "      <td>4.9</td>\n",
       "      <td>3.0</td>\n",
       "      <td>1.4</td>\n",
       "      <td>0.2</td>\n",
       "      <td>0</td>\n",
       "    </tr>\n",
       "    <tr>\n",
       "      <th>2</th>\n",
       "      <td>4.7</td>\n",
       "      <td>3.2</td>\n",
       "      <td>1.3</td>\n",
       "      <td>0.2</td>\n",
       "      <td>0</td>\n",
       "    </tr>\n",
       "    <tr>\n",
       "      <th>3</th>\n",
       "      <td>4.6</td>\n",
       "      <td>3.1</td>\n",
       "      <td>1.5</td>\n",
       "      <td>0.2</td>\n",
       "      <td>0</td>\n",
       "    </tr>\n",
       "    <tr>\n",
       "      <th>4</th>\n",
       "      <td>5.0</td>\n",
       "      <td>3.6</td>\n",
       "      <td>1.4</td>\n",
       "      <td>0.2</td>\n",
       "      <td>0</td>\n",
       "    </tr>\n",
       "    <tr>\n",
       "      <th>...</th>\n",
       "      <td>...</td>\n",
       "      <td>...</td>\n",
       "      <td>...</td>\n",
       "      <td>...</td>\n",
       "      <td>...</td>\n",
       "    </tr>\n",
       "    <tr>\n",
       "      <th>145</th>\n",
       "      <td>6.7</td>\n",
       "      <td>3.0</td>\n",
       "      <td>5.2</td>\n",
       "      <td>2.3</td>\n",
       "      <td>2</td>\n",
       "    </tr>\n",
       "    <tr>\n",
       "      <th>146</th>\n",
       "      <td>6.3</td>\n",
       "      <td>2.5</td>\n",
       "      <td>5.0</td>\n",
       "      <td>1.9</td>\n",
       "      <td>2</td>\n",
       "    </tr>\n",
       "    <tr>\n",
       "      <th>147</th>\n",
       "      <td>6.5</td>\n",
       "      <td>3.0</td>\n",
       "      <td>5.2</td>\n",
       "      <td>2.0</td>\n",
       "      <td>2</td>\n",
       "    </tr>\n",
       "    <tr>\n",
       "      <th>148</th>\n",
       "      <td>6.2</td>\n",
       "      <td>3.4</td>\n",
       "      <td>5.4</td>\n",
       "      <td>2.3</td>\n",
       "      <td>2</td>\n",
       "    </tr>\n",
       "    <tr>\n",
       "      <th>149</th>\n",
       "      <td>5.9</td>\n",
       "      <td>3.0</td>\n",
       "      <td>5.1</td>\n",
       "      <td>1.8</td>\n",
       "      <td>2</td>\n",
       "    </tr>\n",
       "  </tbody>\n",
       "</table>\n",
       "<p>150 rows × 5 columns</p>\n",
       "</div>"
      ],
      "text/plain": [
       "     sepal.length  sepal.width  petal.length  petal.width  variety\n",
       "0             5.1          3.5           1.4          0.2        0\n",
       "1             4.9          3.0           1.4          0.2        0\n",
       "2             4.7          3.2           1.3          0.2        0\n",
       "3             4.6          3.1           1.5          0.2        0\n",
       "4             5.0          3.6           1.4          0.2        0\n",
       "..            ...          ...           ...          ...      ...\n",
       "145           6.7          3.0           5.2          2.3        2\n",
       "146           6.3          2.5           5.0          1.9        2\n",
       "147           6.5          3.0           5.2          2.0        2\n",
       "148           6.2          3.4           5.4          2.3        2\n",
       "149           5.9          3.0           5.1          1.8        2\n",
       "\n",
       "[150 rows x 5 columns]"
      ]
     },
     "execution_count": 4,
     "metadata": {},
     "output_type": "execute_result"
    }
   ],
   "source": [
    "df['variety']=df['variety'].map({'Setosa':0,'Versicolor':1,'Virginica':2})  \n",
    "df"
   ]
  },
  {
   "cell_type": "code",
   "execution_count": 5,
   "id": "7af2deff",
   "metadata": {},
   "outputs": [
    {
     "name": "stdout",
     "output_type": "stream",
     "text": [
      "Acuuracy= 0.9666666666666667\n"
     ]
    }
   ],
   "source": [
    "x=df[['sepal.length','sepal.width','petal.length','petal.width']] #features\n",
    "y=df['variety'] #target\n",
    "x_train,x_test,y_train,y_test=train_test_split(x,y,test_size=0.2,random_state=30) \n",
    "knn=KNeighborsClassifier(n_neighbors=20) #build our knn classifier\n",
    "knn.fit(x_train,y_train) #Training KNN classifier\n",
    "y_pred=knn.predict(x_test)  #Testing\n",
    "print('Acuuracy=',accuracy_score(y_pred,y_test))"
   ]
  },
  {
   "cell_type": "code",
   "execution_count": 6,
   "id": "e6c0d8c9",
   "metadata": {},
   "outputs": [],
   "source": [
    "def loadDataset(df, split, trainingSet=[] , testSet=[]):\n",
    "\n",
    "    with open(df, 'r') as csvfile:\n",
    "\n",
    "        lines = csv.reader(csvfile)\n",
    "\n",
    "        dataset = list(lines)\n",
    "\n",
    "    for x in range(len(df)-1):\n",
    "\n",
    "        for y in range(4):\n",
    "\n",
    "            df[x][y] = float(df[x][y])\n",
    "\n",
    "    if random.random() < split:\n",
    "        trainingSet.append(df[x])\n",
    "    else:\n",
    "        testSet.append(df[x])\n",
    "        \n"
   ]
  },
  {
   "cell_type": "code",
   "execution_count": 21,
   "id": "5b65abff",
   "metadata": {},
   "outputs": [
    {
     "ename": "FileNotFoundError",
     "evalue": "[Errno 2] No such file or directory: 'iris.csv'",
     "output_type": "error",
     "traceback": [
      "\u001b[1;31m---------------------------------------------------------------------------\u001b[0m",
      "\u001b[1;31mFileNotFoundError\u001b[0m                         Traceback (most recent call last)",
      "Input \u001b[1;32mIn [21]\u001b[0m, in \u001b[0;36m<cell line: 3>\u001b[1;34m()\u001b[0m\n\u001b[0;32m      1\u001b[0m trainingSet\u001b[38;5;241m=\u001b[39m[]\n\u001b[0;32m      2\u001b[0m testSet\u001b[38;5;241m=\u001b[39m[]\n\u001b[1;32m----> 3\u001b[0m \u001b[43mloadDataset\u001b[49m\u001b[43m(\u001b[49m\u001b[38;5;124;43m'\u001b[39;49m\u001b[38;5;124;43miris.csv\u001b[39;49m\u001b[38;5;124;43m'\u001b[39;49m\u001b[43m,\u001b[49m\u001b[43m \u001b[49m\u001b[38;5;241;43m0.66\u001b[39;49m\u001b[43m,\u001b[49m\u001b[43m \u001b[49m\u001b[43mtrainingSet\u001b[49m\u001b[43m,\u001b[49m\u001b[43m \u001b[49m\u001b[43mtestSet\u001b[49m\u001b[43m)\u001b[49m\n\u001b[0;32m      4\u001b[0m \u001b[38;5;28mprint\u001b[39m(\u001b[38;5;124m'\u001b[39m\u001b[38;5;124mTrain: \u001b[39m\u001b[38;5;124m'\u001b[39m \u001b[38;5;241m+\u001b[39m \u001b[38;5;28mrepr\u001b[39m(\u001b[38;5;28mlen\u001b[39m(trainingSet)))\n\u001b[0;32m      5\u001b[0m \u001b[38;5;28mprint\u001b[39m(\u001b[38;5;124m'\u001b[39m\u001b[38;5;124mTest: \u001b[39m\u001b[38;5;124m'\u001b[39m \u001b[38;5;241m+\u001b[39m \u001b[38;5;28mrepr\u001b[39m(\u001b[38;5;28mlen\u001b[39m(testSet)))\n",
      "Input \u001b[1;32mIn [6]\u001b[0m, in \u001b[0;36mloadDataset\u001b[1;34m(df, split, trainingSet, testSet)\u001b[0m\n\u001b[0;32m      1\u001b[0m \u001b[38;5;28;01mdef\u001b[39;00m \u001b[38;5;21mloadDataset\u001b[39m(df, split, trainingSet\u001b[38;5;241m=\u001b[39m[] , testSet\u001b[38;5;241m=\u001b[39m[]):\n\u001b[1;32m----> 3\u001b[0m     \u001b[38;5;28;01mwith\u001b[39;00m \u001b[38;5;28;43mopen\u001b[39;49m\u001b[43m(\u001b[49m\u001b[43mdf\u001b[49m\u001b[43m,\u001b[49m\u001b[43m \u001b[49m\u001b[38;5;124;43m'\u001b[39;49m\u001b[38;5;124;43mr\u001b[39;49m\u001b[38;5;124;43m'\u001b[39;49m\u001b[43m)\u001b[49m \u001b[38;5;28;01mas\u001b[39;00m csvfile:\n\u001b[0;32m      5\u001b[0m         lines \u001b[38;5;241m=\u001b[39m csv\u001b[38;5;241m.\u001b[39mreader(csvfile)\n\u001b[0;32m      7\u001b[0m         dataset \u001b[38;5;241m=\u001b[39m \u001b[38;5;28mlist\u001b[39m(lines)\n",
      "\u001b[1;31mFileNotFoundError\u001b[0m: [Errno 2] No such file or directory: 'iris.csv'"
     ]
    }
   ],
   "source": [
    "trainingSet=[]\n",
    "testSet=[]\n",
    "loadDataset('iris.csv', 0.66, trainingSet, testSet)\n",
    "print('Train: ' + repr(len(trainingSet)))\n",
    "print('Test: ' + repr(len(testSet)))"
   ]
  },
  {
   "cell_type": "markdown",
   "id": "41fff1ee",
   "metadata": {},
   "source": [
    "2. Similarity"
   ]
  },
  {
   "cell_type": "code",
   "execution_count": 10,
   "id": "1a08578d",
   "metadata": {},
   "outputs": [],
   "source": [
    "import math\n",
    "\n",
    "def euclideanDistance(instance1, instance2, length):\n",
    "   \n",
    "    distance = 0\n",
    "    for x in range(length):\n",
    "        distance += pow((instance1[x] - instance2[x]), 2)\n",
    "    return math.sqrt(distance)"
   ]
  },
  {
   "cell_type": "markdown",
   "id": "9deb6ece",
   "metadata": {},
   "source": [
    "testing the \"euclideanDistance\" function"
   ]
  },
  {
   "cell_type": "code",
   "execution_count": 11,
   "id": "99cc7819",
   "metadata": {},
   "outputs": [
    {
     "name": "stdout",
     "output_type": "stream",
     "text": [
      "Distance: 3.4641016151377544\n"
     ]
    }
   ],
   "source": [
    "data1 = [2, 2, 2, 'a']\n",
    "\n",
    "data2 = [4, 4, 4, 'b']\n",
    "\n",
    "distance = euclideanDistance(data1, data2, 3)\n",
    "\n",
    "print ('Distance: ' + repr(distance))"
   ]
  },
  {
   "cell_type": "markdown",
   "id": "d8b1c669",
   "metadata": {},
   "source": [
    "3. Neighbors"
   ]
  },
  {
   "cell_type": "code",
   "execution_count": 12,
   "id": "edf68340",
   "metadata": {},
   "outputs": [],
   "source": [
    "import operator\n",
    "\n",
    "def getNeighbors(trainingSet, testInstance, k):\n",
    "\n",
    "    distances = []\n",
    "\n",
    "    length = len(testInstance)-1\n",
    "\n",
    "    for x in range(len(trainingSet)):\n",
    "\n",
    "        dist = euclideanDistance(testInstance, trainingSet[x], length)\n",
    "\n",
    "        distances.append((trainingSet[x], dist))\n",
    "\n",
    "        distances.sort(key=operator.itemgetter(1))\n",
    "\n",
    "        neighbors = []\n",
    "\n",
    "    for x in range(k):\n",
    "\n",
    "        neighbors.append(distances[x][0])\n",
    "\n",
    "        return neighbors"
   ]
  },
  {
   "cell_type": "markdown",
   "id": "6eb03641",
   "metadata": {},
   "source": [
    "testing the \"getNeighbors\" function"
   ]
  },
  {
   "cell_type": "code",
   "execution_count": 13,
   "id": "1b9d0b5c",
   "metadata": {},
   "outputs": [
    {
     "name": "stdout",
     "output_type": "stream",
     "text": [
      "[[4, 4, 4, 'b']]\n"
     ]
    }
   ],
   "source": [
    "trainSet = [[2, 2, 2, 'a'], [4, 4, 4, 'b']]\n",
    "\n",
    "testInstance = [5, 5, 5]\n",
    "\n",
    "k = 1\n",
    "\n",
    "neighbors = getNeighbors(trainSet, testInstance, 1)\n",
    "\n",
    "print(neighbors)"
   ]
  },
  {
   "cell_type": "markdown",
   "id": "6a4adddb",
   "metadata": {},
   "source": [
    "4. Response"
   ]
  },
  {
   "cell_type": "code",
   "execution_count": 16,
   "id": "81ce061d",
   "metadata": {},
   "outputs": [],
   "source": [
    "import operator\n",
    "\n",
    "def getResponse(neighbors):\n",
    "\n",
    "    classVotes = {}\n",
    "\n",
    "    for x in range(len(neighbors)):\n",
    "\n",
    "        response = neighbors[x][ -1 ] #complete with appropriate number\n",
    "\n",
    "        if response in classVotes:\n",
    "    \n",
    "    #Complete the if clause\n",
    "\n",
    "            classVotes[response] += 1\n",
    "        else:\n",
    "            classVotes[response] = 1\n",
    "        \n",
    "    sortedVotes = sorted(classVotes.items(), key=operator.itemgetter(1), reverse=True)\n",
    "\n",
    "    return sortedVotes[0][0]\n"
   ]
  },
  {
   "cell_type": "markdown",
   "id": "4f5b660b",
   "metadata": {},
   "source": [
    "testing the \"getResponse\" function"
   ]
  },
  {
   "cell_type": "code",
   "execution_count": 17,
   "id": "f6fcdaad",
   "metadata": {},
   "outputs": [
    {
     "name": "stdout",
     "output_type": "stream",
     "text": [
      "a\n"
     ]
    }
   ],
   "source": [
    "neighbors = [[1,1,1,'a'], [2,2,2,'a'], [3,3,3,'b']]\n",
    "\n",
    "response = getResponse(neighbors)\n",
    "\n",
    "print(response)"
   ]
  },
  {
   "cell_type": "markdown",
   "id": "6af465f7",
   "metadata": {},
   "source": [
    "5. Accuracy"
   ]
  },
  {
   "cell_type": "code",
   "execution_count": 18,
   "id": "2e43520c",
   "metadata": {},
   "outputs": [],
   "source": [
    "def getAccuracy(testSet, predictions):\n",
    "    correct = 0\n",
    "    for x in range(len(testSet)):\n",
    "        if testSet[x][-1] == predictions[x]:\n",
    "            correct += 1\n",
    "    return (correct/float(len(testSet))) * 100.0"
   ]
  },
  {
   "cell_type": "markdown",
   "id": "82d5b7d8",
   "metadata": {},
   "source": [
    "testing the \"getAccuracy\" function"
   ]
  },
  {
   "cell_type": "code",
   "execution_count": 23,
   "id": "f24af7ff",
   "metadata": {},
   "outputs": [
    {
     "name": "stdout",
     "output_type": "stream",
     "text": [
      "66.66666666666666\n"
     ]
    }
   ],
   "source": [
    "testSet = [[1,1,1,'a'], [2,2,2,'a'], [3,3,3,'b']]\n",
    "\n",
    "predictions = ['a', 'a', 'a']\n",
    "\n",
    "accuracy = getAccuracy(testSet, predictions)\n",
    "\n",
    "print(accuracy)"
   ]
  },
  {
   "cell_type": "markdown",
   "id": "711e4485",
   "metadata": {},
   "source": [
    "6. Main"
   ]
  },
  {
   "cell_type": "code",
   "execution_count": 25,
   "id": "72bedad8",
   "metadata": {},
   "outputs": [
    {
     "ename": "FileNotFoundError",
     "evalue": "[Errno 2] No such file or directory: 'iris.csv'",
     "output_type": "error",
     "traceback": [
      "\u001b[1;31m---------------------------------------------------------------------------\u001b[0m",
      "\u001b[1;31mFileNotFoundError\u001b[0m                         Traceback (most recent call last)",
      "Input \u001b[1;32mIn [25]\u001b[0m, in \u001b[0;36m<cell line: 18>\u001b[1;34m()\u001b[0m\n\u001b[0;32m     15\u001b[0m     accuracy \u001b[38;5;241m=\u001b[39m getAccuracy(testSet, predictions)\n\u001b[0;32m     16\u001b[0m     \u001b[38;5;28mprint\u001b[39m (\u001b[38;5;124m'\u001b[39m\u001b[38;5;124mAccuracy: \u001b[39m\u001b[38;5;124m'\u001b[39m, accuracy)\n\u001b[1;32m---> 18\u001b[0m \u001b[43mmain\u001b[49m\u001b[43m(\u001b[49m\u001b[43m)\u001b[49m\n",
      "Input \u001b[1;32mIn [25]\u001b[0m, in \u001b[0;36mmain\u001b[1;34m()\u001b[0m\n\u001b[0;32m      3\u001b[0m testSet\u001b[38;5;241m=\u001b[39m[]\n\u001b[0;32m      4\u001b[0m split \u001b[38;5;241m=\u001b[39m \u001b[38;5;241m0.67\u001b[39m\n\u001b[1;32m----> 5\u001b[0m \u001b[43mloadDataset\u001b[49m\u001b[43m(\u001b[49m\u001b[38;5;124;43m'\u001b[39;49m\u001b[38;5;124;43miris.csv\u001b[39;49m\u001b[38;5;124;43m'\u001b[39;49m\u001b[43m,\u001b[49m\u001b[43m \u001b[49m\u001b[43msplit\u001b[49m\u001b[43m,\u001b[49m\u001b[43m \u001b[49m\u001b[43mtrainingSet\u001b[49m\u001b[43m,\u001b[49m\u001b[43m \u001b[49m\u001b[43mtestSet\u001b[49m\u001b[43m)\u001b[49m\n\u001b[0;32m      6\u001b[0m \u001b[38;5;28mprint\u001b[39m (\u001b[38;5;124m'\u001b[39m\u001b[38;5;124mTrain set: \u001b[39m\u001b[38;5;124m'\u001b[39m \u001b[38;5;241m+\u001b[39m \u001b[38;5;28mrepr\u001b[39m(\u001b[38;5;28mlen\u001b[39m(trainingSet)))\n\u001b[0;32m      7\u001b[0m \u001b[38;5;28mprint\u001b[39m (\u001b[38;5;124m'\u001b[39m\u001b[38;5;124mTest set: \u001b[39m\u001b[38;5;124m'\u001b[39m \u001b[38;5;241m+\u001b[39m \u001b[38;5;28mrepr\u001b[39m(\u001b[38;5;28mlen\u001b[39m(testSet)))    \n",
      "Input \u001b[1;32mIn [6]\u001b[0m, in \u001b[0;36mloadDataset\u001b[1;34m(df, split, trainingSet, testSet)\u001b[0m\n\u001b[0;32m      1\u001b[0m \u001b[38;5;28;01mdef\u001b[39;00m \u001b[38;5;21mloadDataset\u001b[39m(df, split, trainingSet\u001b[38;5;241m=\u001b[39m[] , testSet\u001b[38;5;241m=\u001b[39m[]):\n\u001b[1;32m----> 3\u001b[0m     \u001b[38;5;28;01mwith\u001b[39;00m \u001b[38;5;28;43mopen\u001b[39;49m\u001b[43m(\u001b[49m\u001b[43mdf\u001b[49m\u001b[43m,\u001b[49m\u001b[43m \u001b[49m\u001b[38;5;124;43m'\u001b[39;49m\u001b[38;5;124;43mr\u001b[39;49m\u001b[38;5;124;43m'\u001b[39;49m\u001b[43m)\u001b[49m \u001b[38;5;28;01mas\u001b[39;00m csvfile:\n\u001b[0;32m      5\u001b[0m         lines \u001b[38;5;241m=\u001b[39m csv\u001b[38;5;241m.\u001b[39mreader(csvfile)\n\u001b[0;32m      7\u001b[0m         dataset \u001b[38;5;241m=\u001b[39m \u001b[38;5;28mlist\u001b[39m(lines)\n",
      "\u001b[1;31mFileNotFoundError\u001b[0m: [Errno 2] No such file or directory: 'iris.csv'"
     ]
    }
   ],
   "source": [
    "def main():\n",
    "    trainingSet=[]\n",
    "    testSet=[]\n",
    "    split = 0.67\n",
    "    loadDataset('iris.csv', split, trainingSet, testSet)\n",
    "    print ('Train set: ' + repr(len(trainingSet)))\n",
    "    print ('Test set: ' + repr(len(testSet)))    \n",
    "    predictions=[]\n",
    "    k = 3\n",
    "    for x in range(len(testSet)):\n",
    "        neighbors = getNeighbors(trainingSet, testSet[x], k)\n",
    "        result = getResponse(neighbors)\n",
    "        predictions.append(result)\n",
    "        #print('> predicted=' + repr(result) + ', actual=' + repr(testSet[x][-1]))\n",
    "    accuracy = getAccuracy(testSet, predictions)\n",
    "    print ('Accuracy: ', accuracy)\n",
    "\n",
    "main()"
   ]
  },
  {
   "cell_type": "markdown",
   "id": "b3bad641",
   "metadata": {},
   "source": [
    "7. Another distance metric"
   ]
  },
  {
   "cell_type": "code",
   "execution_count": 26,
   "id": "25b720bf",
   "metadata": {},
   "outputs": [],
   "source": [
    "def manhattanDistance(instance1, instance2, length):\n",
    "   \n",
    "    distance = 0\n",
    "    for x in range(length):\n",
    "        distance += abs((instance1[x] - instance2[x]))\n",
    "    return distance"
   ]
  },
  {
   "cell_type": "markdown",
   "id": "ec3d85c2",
   "metadata": {},
   "source": [
    "testing the \"manhattanDistance\" function"
   ]
  },
  {
   "cell_type": "code",
   "execution_count": 27,
   "id": "57610b50",
   "metadata": {},
   "outputs": [
    {
     "name": "stdout",
     "output_type": "stream",
     "text": [
      "Distance: 6\n"
     ]
    }
   ],
   "source": [
    "data1 = [2, 2, 2, 'a']\n",
    "\n",
    "data2 = [4, 4, 4, 'b']\n",
    "\n",
    "distance = manhattanDistance(data1, data2, 3)\n",
    "\n",
    "print ('Distance: ' + repr(distance))"
   ]
  }
 ],
 "metadata": {
  "kernelspec": {
   "display_name": "Python 3 (ipykernel)",
   "language": "python",
   "name": "python3"
  },
  "language_info": {
   "codemirror_mode": {
    "name": "ipython",
    "version": 3
   },
   "file_extension": ".py",
   "mimetype": "text/x-python",
   "name": "python",
   "nbconvert_exporter": "python",
   "pygments_lexer": "ipython3",
   "version": "3.9.12"
  }
 },
 "nbformat": 4,
 "nbformat_minor": 5
}
